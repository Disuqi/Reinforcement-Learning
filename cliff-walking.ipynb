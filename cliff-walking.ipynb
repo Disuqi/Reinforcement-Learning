{
 "cells": [
  {
   "cell_type": "code",
   "execution_count": 1,
   "metadata": {},
   "outputs": [],
   "source": [
    "import gymnasium as gym\n",
    "\n",
    "env = gym.make('CartPole-v1')"
   ]
  },
  {
   "cell_type": "code",
   "execution_count": 2,
   "metadata": {},
   "outputs": [
    {
     "name": "stdout",
     "output_type": "stream",
     "text": [
      "Episode 1 reward: 23.0\n",
      "Episode 2 reward: 13.0\n",
      "Episode 3 reward: 17.0\n",
      "Episode 4 reward: 18.0\n",
      "Episode 5 reward: 16.0\n",
      "Average reward: 17.4\n"
     ]
    }
   ],
   "source": [
    "episodes = 5\n",
    "cumulative_reward = 0\n",
    "\n",
    "for e in range(episodes):\n",
    "    state = env.reset()\n",
    "    done = False\n",
    "    episode_reward = 0\n",
    "\n",
    "    while not done:\n",
    "        action = env.action_space.sample()\n",
    "        result = env.step(action)\n",
    "        state = result[0]\n",
    "        done = result[2]\n",
    "        episode_reward += result[1]\n",
    "\n",
    "    cumulative_reward += episode_reward\n",
    "    print(f'Episode {e + 1} reward: {episode_reward}')\n",
    "\n",
    "print(f'Average reward: {cumulative_reward / episodes}')\n",
    "env.close()"
   ]
  },
  {
   "cell_type": "code",
   "execution_count": 11,
   "metadata": {},
   "outputs": [],
   "source": [
    "import tensorflow as tf\n",
    "from tensorflow.keras.layers import Dense, Flatten\n",
    "from tensorflow.keras.models import Sequential\n",
    "from tensorflow.keras.optimizers import RMSprop\n",
    "\n",
    "from keras import __version__\n",
    "tf.keras.__version__ = __version__\n",
    "from rl.agents.dqn import DQNAgent\n",
    "from rl.memory import SequentialMemory\n",
    "from rl.policy import EpsGreedyQPolicy, LinearAnnealedPolicy\n",
    "\n"
   ]
  }
 ],
 "metadata": {
  "kernelspec": {
   "display_name": "Python 3",
   "language": "python",
   "name": "python3"
  },
  "language_info": {
   "codemirror_mode": {
    "name": "ipython",
    "version": 3
   },
   "file_extension": ".py",
   "mimetype": "text/x-python",
   "name": "python",
   "nbconvert_exporter": "python",
   "pygments_lexer": "ipython3",
   "version": "3.10.12"
  }
 },
 "nbformat": 4,
 "nbformat_minor": 2
}
